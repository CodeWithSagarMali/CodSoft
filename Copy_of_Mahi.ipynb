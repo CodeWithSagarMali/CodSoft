{
  "nbformat": 4,
  "nbformat_minor": 0,
  "metadata": {
    "colab": {
      "provenance": [],
      "include_colab_link": true
    },
    "kernelspec": {
      "name": "python3",
      "display_name": "Python 3"
    },
    "language_info": {
      "name": "python"
    }
  },
  "cells": [
    {
      "cell_type": "markdown",
      "metadata": {
        "id": "view-in-github",
        "colab_type": "text"
      },
      "source": [
        "<a href=\"https://colab.research.google.com/github/CodeWithSagarMali/CodSoft/blob/main/Copy_of_Mahi.ipynb\" target=\"_parent\"><img src=\"https://colab.research.google.com/assets/colab-badge.svg\" alt=\"Open In Colab\"/></a>"
      ]
    },
    {
      "cell_type": "code",
      "source": [
        "import pandas as pd\n",
        "from PIL import Image, ImageDraw, ImageFont\n",
        "import os\n",
        "\n",
        "# Load the data from Excel file\n",
        "data = pd.read_excel(\"/nnnnn.xlsx\")\n",
        "\n",
        "# Load certificate template\n",
        "template =\"/Certificate.png\"\n",
        "\n",
        "# Font configuration\n",
        "# font_path = \"C:\\Windows\\Fonts\\AcadEref.ttf\"  # Ensure this path points to a .ttf font file on your system\n",
        "font_path = \"/Montserrat-Regular.ttf\"\n",
        "font_size_name = 80\n",
        "font_size_other = 30\n",
        "name_position = (1000, 707)       # Customize this position based on the template\n",
        "course_position = (400, 400)     # Customize this position based on the template\n",
        "date_position = (400, 500)       # Customize this position based on the template\n",
        "\n",
        "if not os.path.exists(font_path):\n",
        "  raise FileNotFoundError(f\"Font file not found:{font_path}\")\n",
        "\n",
        "# Loop through each row in the data\n",
        "for index, row in data.iterrows():\n",
        "    name = row['Name']\n",
        "    course = row['Course']\n",
        "    date = row['Date']\n",
        "\n",
        "    # Open the certificate template\n",
        "    image = Image.open(template)\n",
        "    draw = ImageDraw.Draw(image)\n",
        "\n",
        "    # Load the font\n",
        "    font_name = ImageFont.truetype(font_path, font_size_name)\n",
        "    font_other = ImageFont.truetype(font_path, font_size_other)\n",
        "\n",
        "    # Add the text to the certificate\n",
        "    draw.text(name_position, name, font=font_name, fill=\"black\")\n",
        "    draw.text(course_position, course, font=font_other, fill=\"black\")\n",
        "    draw.text(date_position, str(date), font=font_other, fill=\"black\")\n",
        "\n",
        "    # Save the certificate with the name\n",
        "    certificate_name = f\"{name}_certificate.png\"\n",
        "    image.save(certificate_name)\n",
        "\n",
        "    print(f\"Certificate created for {name}.\")\n",
        "\n",
        "print(\"All certificates have been generated.\")"
      ],
      "metadata": {
        "colab": {
          "base_uri": "https://localhost:8080/"
        },
        "id": "r-VM7C9ammT9",
        "outputId": "73ef54c4-60f6-477b-c82f-5cc62d680365"
      },
      "execution_count": null,
      "outputs": [
        {
          "output_type": "stream",
          "name": "stdout",
          "text": [
            "Certificate created for XYZ.\n",
            "Certificate created for ABC.\n",
            "All certificates have been generated.\n"
          ]
        }
      ]
    },
    {
      "cell_type": "code",
      "source": [],
      "metadata": {
        "id": "H8BKhKVip14g"
      },
      "execution_count": null,
      "outputs": []
    }
  ]
}